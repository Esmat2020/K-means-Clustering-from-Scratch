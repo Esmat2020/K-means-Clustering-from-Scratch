{
 "cells": [
  {
   "cell_type": "markdown",
   "id": "9125bc20",
   "metadata": {
    "scrolled": true
   },
   "source": [
    "# K-means Clustering (UnSupervised learning Algorithm)\n",
    "# Group data based on household power consumption \n",
    "# Problem definition :\n",
    "- Consider the household power consumption data set in the file named Power_Consumption.csv, it contains the power consumption information of 200 households.\n",
    "- group these households based on the similarity in their power consumption\n",
    "- The final output of your program should show k lists of households’ IDs, and show outlier records (if exists)"
   ]
  },
  {
   "cell_type": "markdown",
   "id": "32ad7be9",
   "metadata": {},
   "source": [
    "# import important libraries"
   ]
  },
  {
   "cell_type": "code",
   "execution_count": 141,
   "id": "9361adad",
   "metadata": {},
   "outputs": [],
   "source": [
    "import pandas as pd\n",
    "import numpy as np\n",
    "from operator import itemgetter\n",
    "import warnings\n",
    "warnings.filterwarnings('ignore')\n",
    "\n",
    "dataFrame = pd.read_csv('H:\\Data Science Repository\\second term\\Data Mining\\Assignment 2 - Clustering\\Power_Consumption2.csv')"
   ]
  },
  {
   "cell_type": "markdown",
   "id": "38773771",
   "metadata": {},
   "source": [
    "# Claculate the distance between centroids and points"
   ]
  },
  {
   "cell_type": "code",
   "execution_count": 143,
   "id": "6fe604b6",
   "metadata": {},
   "outputs": [],
   "source": [
    "def Calc_Distance(df, dataFrame):\n",
    "    distance = [] \n",
    "    for i in range(len(df)) :\n",
    "        for j in range(len(dataFrame)):\n",
    "            distance.append(round(np.linalg.norm(df.iloc[i] - dataFrame.iloc[j]),3))\n",
    "    return distance"
   ]
  },
  {
   "cell_type": "code",
   "execution_count": 144,
   "id": "144bd3cc",
   "metadata": {},
   "outputs": [],
   "source": [
    "def clustering(distance):\n",
    "    clusters = [distance[x:x+200] for x in range(0, len(distance), 200)]\n",
    "    return clusters"
   ]
  },
  {
   "cell_type": "markdown",
   "id": "03feac91",
   "metadata": {},
   "source": [
    "# detect the minimum distance between centroids and points"
   ]
  },
  {
   "cell_type": "code",
   "execution_count": 145,
   "id": "65642c87",
   "metadata": {},
   "outputs": [],
   "source": [
    "def Detect_mini_Distance(dataFrame, clusters):\n",
    "    minis=[]\n",
    "    # compare values with the same position inside the clusters\n",
    "    # minimum distance stay in the inner clusters and other values remove\n",
    "    for i in range(len(dataFrame)):\n",
    "        #print(list(map(itemgetter(i), clusters)))\n",
    "        minis.append(min(list(map(itemgetter(i), clusters))))\n",
    "    # all minimum values\n",
    "    return minis"
   ]
  },
  {
   "cell_type": "markdown",
   "id": "5f61b300",
   "metadata": {},
   "source": [
    "# eleminate the non minimum distance from the clusters"
   ]
  },
  {
   "cell_type": "code",
   "execution_count": 146,
   "id": "7b5d8a30",
   "metadata": {},
   "outputs": [],
   "source": [
    "# compare the minimum values with the clusters and remove the non minimum values\n",
    "def eleminate_nonMini_Distance(mini, clusters):\n",
    "    num=0\n",
    "    for m in mini:\n",
    "        for i in clusters:\n",
    "             for j in i:\n",
    "                if m != j and j not in mini:\n",
    "                    num=num+1\n",
    "                    i.remove(j)\n",
    "    return clusters"
   ]
  },
  {
   "cell_type": "markdown",
   "id": "ab356385",
   "metadata": {},
   "source": [
    "# get the specified dataframe "
   ]
  },
  {
   "cell_type": "code",
   "execution_count": 147,
   "id": "64cc24cb",
   "metadata": {},
   "outputs": [],
   "source": [
    "def get_the_calculated_dataframe(df, dataFrame, points):\n",
    "    Global_active_power = []\n",
    "    Global_reactive_power = []\n",
    "    Voltage = []\n",
    "    Global_intensity = []\n",
    "    Sub_metering_2 = []\n",
    "    Sub_metering_3 = []\n",
    "\n",
    "    for i in range(len(df)) :\n",
    "        for j in range(len(dataFrame)):\n",
    "            for n in points:\n",
    "                if n == round(np.linalg.norm(df.iloc[i] - dataFrame.iloc[j]),3):\n",
    "                    gap = dataFrame.iloc[j][0]\n",
    "                    grp = dataFrame.iloc[j][1]\n",
    "                    vol = dataFrame.iloc[j][2]\n",
    "                    gi = dataFrame.iloc[j][3]\n",
    "                    sm2 = dataFrame.iloc[j][4]\n",
    "                    sm3 = dataFrame.iloc[j][5]\n",
    "                    Global_active_power.append(gap)\n",
    "                    Global_reactive_power.append(grp)\n",
    "                    Voltage.append(vol)\n",
    "                    Global_intensity.append(gi)\n",
    "                    Sub_metering_2.append(sm2)\n",
    "                    Sub_metering_3.append(sm3)\n",
    "                    \n",
    "    data = fr_lists_to_df(Global_active_power, Global_reactive_power, Voltage,Global_intensity, Sub_metering_2, Sub_metering_3)\n",
    "    return data"
   ]
  },
  {
   "cell_type": "code",
   "execution_count": 148,
   "id": "4991ab66",
   "metadata": {},
   "outputs": [],
   "source": [
    "def fr_lists_to_df(Global_active_power, Global_reactive_power, Voltage,Global_intensity, Sub_metering_2, Sub_metering_3):\n",
    "    data = pd.DataFrame()\n",
    "    data['Global_active_power'] = Global_active_power\n",
    "    data['Global_reactive_power'] = Global_reactive_power\n",
    "    data['Voltage'] = Voltage\n",
    "    data['Global_intensity'] = Global_intensity\n",
    "    data['Sub_metering_2'] = Sub_metering_2\n",
    "    data['Sub_metering_3'] = Sub_metering_3\n",
    "    \n",
    "    return data"
   ]
  },
  {
   "cell_type": "markdown",
   "id": "0f57571d",
   "metadata": {},
   "source": [
    "# calculate the new centroids"
   ]
  },
  {
   "cell_type": "code",
   "execution_count": 149,
   "id": "fd6f2d24",
   "metadata": {},
   "outputs": [],
   "source": [
    "def new_centroids(data, clusters):\n",
    "    means = []\n",
    "    for i in clusters:\n",
    "        x = len(i)\n",
    "        means.append(round(data.head(x).mean(),3))\n",
    "\n",
    "    new_cent = np.array(means).tolist()\n",
    "    return new_cent"
   ]
  },
  {
   "cell_type": "code",
   "execution_count": 150,
   "id": "5c3a45d4",
   "metadata": {},
   "outputs": [],
   "source": [
    "def fr_sublists_to_list(clusters):\n",
    "    points = []\n",
    "    for i in clusters:\n",
    "        for j in i:\n",
    "            points.append(j) \n",
    "    return points"
   ]
  },
  {
   "cell_type": "code",
   "execution_count": 151,
   "id": "76ec6d64",
   "metadata": {},
   "outputs": [],
   "source": [
    "def fr_sublists_to_dataFrame(new_cent):\n",
    "    df = pd.DataFrame(new_cent, columns =['Global_active_power','Global_reactive_power','Voltage','Global_intensity',\n",
    "                                          'Sub_metering_2','Sub_metering_3'])\n",
    "    return df"
   ]
  },
  {
   "cell_type": "markdown",
   "id": "b795e15a",
   "metadata": {},
   "source": [
    "# intialize random centroids "
   ]
  },
  {
   "cell_type": "code",
   "execution_count": 152,
   "id": "4e316045",
   "metadata": {
    "scrolled": true
   },
   "outputs": [
    {
     "name": "stdout",
     "output_type": "stream",
     "text": [
      "please enter the number of clusters : 3\n"
     ]
    }
   ],
   "source": [
    "K_num = input('please enter the number of clusters : ')\n",
    "itr = 3\n",
    "df = dataFrame.sample(n=int(K_num))\n",
    "i = 0\n",
    "for i in range(itr):\n",
    "    distance = Calc_Distance(df,dataFrame)\n",
    "    clusters = clustering(distance)\n",
    "    mini = Detect_mini_Distance(dataFrame, clusters)\n",
    "    clusters = eleminate_nonMini_Distance(mini, clusters)\n",
    "    points = fr_sublists_to_list(clusters)\n",
    "    data = get_the_calculated_dataframe(df, dataFrame, points)\n",
    "    new_cent = new_centroids(data, clusters)\n",
    "    data_2 = fr_sublists_to_dataFrame(new_cent)\n",
    "    df = data_2"
   ]
  },
  {
   "cell_type": "code",
   "execution_count": 153,
   "id": "934ea782",
   "metadata": {},
   "outputs": [
    {
     "name": "stdout",
     "output_type": "stream",
     "text": [
      "the centroids are : \n"
     ]
    },
    {
     "data": {
      "text/html": [
       "<div>\n",
       "<style scoped>\n",
       "    .dataframe tbody tr th:only-of-type {\n",
       "        vertical-align: middle;\n",
       "    }\n",
       "\n",
       "    .dataframe tbody tr th {\n",
       "        vertical-align: top;\n",
       "    }\n",
       "\n",
       "    .dataframe thead th {\n",
       "        text-align: right;\n",
       "    }\n",
       "</style>\n",
       "<table border=\"1\" class=\"dataframe\">\n",
       "  <thead>\n",
       "    <tr style=\"text-align: right;\">\n",
       "      <th></th>\n",
       "      <th>Global_active_power</th>\n",
       "      <th>Global_reactive_power</th>\n",
       "      <th>Voltage</th>\n",
       "      <th>Global_intensity</th>\n",
       "      <th>Sub_metering_2</th>\n",
       "      <th>Sub_metering_3</th>\n",
       "    </tr>\n",
       "  </thead>\n",
       "  <tbody>\n",
       "    <tr>\n",
       "      <th>0</th>\n",
       "      <td>3.529</td>\n",
       "      <td>0.085</td>\n",
       "      <td>233.333</td>\n",
       "      <td>15.109</td>\n",
       "      <td>3.538</td>\n",
       "      <td>16.692</td>\n",
       "    </tr>\n",
       "    <tr>\n",
       "      <th>1</th>\n",
       "      <td>3.902</td>\n",
       "      <td>0.103</td>\n",
       "      <td>233.526</td>\n",
       "      <td>16.827</td>\n",
       "      <td>8.818</td>\n",
       "      <td>16.682</td>\n",
       "    </tr>\n",
       "    <tr>\n",
       "      <th>2</th>\n",
       "      <td>3.967</td>\n",
       "      <td>0.111</td>\n",
       "      <td>233.381</td>\n",
       "      <td>17.142</td>\n",
       "      <td>9.842</td>\n",
       "      <td>16.658</td>\n",
       "    </tr>\n",
       "  </tbody>\n",
       "</table>\n",
       "</div>"
      ],
      "text/plain": [
       "   Global_active_power  Global_reactive_power  Voltage  Global_intensity  \\\n",
       "0                3.529                  0.085  233.333            15.109   \n",
       "1                3.902                  0.103  233.526            16.827   \n",
       "2                3.967                  0.111  233.381            17.142   \n",
       "\n",
       "   Sub_metering_2  Sub_metering_3  \n",
       "0           3.538          16.692  \n",
       "1           8.818          16.682  \n",
       "2           9.842          16.658  "
      ]
     },
     "execution_count": 153,
     "metadata": {},
     "output_type": "execute_result"
    }
   ],
   "source": [
    "print(\"the centroids are : \")\n",
    "data_2"
   ]
  },
  {
   "cell_type": "code",
   "execution_count": 154,
   "id": "1b281b84",
   "metadata": {},
   "outputs": [
    {
     "name": "stdout",
     "output_type": "stream",
     "text": [
      "the clusters are : \n",
      "[[2.052, 2.486, 15.773, 36.982, 38.386, 38.545, 39.013, 37.76, 36.623, 21.409, 26.416, 20.697, 10.114, 1.939, 29.244, 5.391, 0.988, 1.153, 4.566, 4.031, 4.075, 4.282, 3.396, 4.981, 4.779, 4.956, 3.435, 4.658, 4.942, 4.15, 2.797, 1.621, 2.322, 1.359, 1.854, 1.022, 3.63, 2.516, 0.722, 0.692, 1.309, 1.49, 0.939, 0.85, 1.101, 1.373, 0.946, 0.753, 1.024, 0.866, 0.484, 1.356, 1.569, 2.735, 4.546, 4.565, 4.535, 4.519, 1.546, 0.696, 1.571, 1.3, 1.802, 2.104, 2.039, 2.07, 1.245, 1.526, 1.801, 1.092, 1.308, 2.212, 1.945, 2.59, 2.688, 2.001, 1.333, 0.685, 1.927, 0.996, 1.306, 1.638, 1.564, 2.08, 1.954, 1.767, 1.774, 1.547, 1.887, 1.255, 1.598, 1.438, 2.285, 1.373, 1.674, 1.555, 0.853, 1.02, 1.112, 1.319, 1.047, 1.041, 1.41, 0.983, 0.934, 1.447, 1.498, 1.259, 1.715, 1.35, 1.381, 1.901, 1.86, 1.606, 1.233, 1.009, 1.152, 1.027, 0.991, 1.251, 0.84, 0.943, 1.078, 1.241, 1.585, 2.312, 1.961, 1.849, 0.885, 0.933], [4.091, 9.011, 9.163, 8.938, 1.456, 1.816, 1.58, 1.535, 5.935, 9.384, 8.599, 8.881, 3.23, 1.436, 1.959, 1.959, 11.6, 19.734, 16.872, 7.835, 5.06, 2.475, 4.553, 5.247, 3.323, 3.687, 5.486, 1.043, 6.756, 6.728, 6.741, 1.009, 5.478, 3.659, 3.86, 3.997, 0.733, 4.285, 3.23, 2.07, 1.849, 1.439, 1.159, 0.849], [4.942, 4.075, 1.472, 1.003, 1.698, 0.954, 0.518, 0.579, 0.636, 0.828, 2.36, 4.185, 3.589, 2.793, 3.658, 3.275, 11.58, 4.517, 4.079, 1.84, 1.563, 2.032, 1.48, 1.451, 0.654, 1.441, 1.468, 1.439, 2.856, 2.449, 4.185, 4.409, 4.285, 4.311, 4.65, 2.478, 1.816, 3.63]]\n"
     ]
    }
   ],
   "source": [
    "print(\"the clusters are : \")\n",
    "print(clusters)"
   ]
  }
 ],
 "metadata": {
  "kernelspec": {
   "display_name": "Python 3 (ipykernel)",
   "language": "python",
   "name": "python3"
  },
  "language_info": {
   "codemirror_mode": {
    "name": "ipython",
    "version": 3
   },
   "file_extension": ".py",
   "mimetype": "text/x-python",
   "name": "python",
   "nbconvert_exporter": "python",
   "pygments_lexer": "ipython3",
   "version": "3.8.8"
  }
 },
 "nbformat": 4,
 "nbformat_minor": 5
}
